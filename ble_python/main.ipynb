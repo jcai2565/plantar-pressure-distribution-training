{
 "cells": [
  {
   "cell_type": "code",
   "execution_count": 3,
   "id": "25f4bc4c",
   "metadata": {
    "vscode": {
     "languageId": "plaintext"
    }
   },
   "outputs": [
    {
     "name": "stdout",
     "output_type": "stream",
     "text": [
      "The autoreload extension is already loaded. To reload it, use:\n",
      "  %reload_ext autoreload\n"
     ]
    }
   ],
   "source": [
    "%load_ext autoreload\n",
    "%autoreload 2\n",
    "\n",
    "from ble import get_ble_controller\n",
    "from base_ble import LOG\n",
    "from cmd_types import CMD\n",
    "import time\n",
    "import numpy as np\n",
    "\n",
    "LOG.propagate = False"
   ]
  },
  {
   "cell_type": "code",
   "execution_count": 8,
   "id": "4c925553-0743-42be-8a90-b4038dc92ddb",
   "metadata": {},
   "outputs": [
    {
     "name": "stdout",
     "output_type": "stream",
     "text": [
      "2025-04-29 20:15:33,191 |\u001b[32m INFO     \u001b[0m|: Connected to: True\n",
      "2025-04-29 20:15:33,203 |\u001b[32m INFO     \u001b[0m|: [Service] 00001800-0000-1000-8000-00805f9b34fb (Handle: 1): Generic Access Profile\n",
      "2025-04-29 20:15:33,408 |\u001b[32m INFO     \u001b[0m|: \t[Characteristic] 00002a00-0000-1000-8000-00805f9b34fb (Handle: 2): Device Name (read), Value: b'Artemis BLE'\n",
      "2025-04-29 20:15:33,514 |\u001b[32m INFO     \u001b[0m|: \t[Characteristic] 00002a01-0000-1000-8000-00805f9b34fb (Handle: 4): Appearance (read), Value: b'\\x00\\x00'\n",
      "2025-04-29 20:15:33,517 |\u001b[32m INFO     \u001b[0m|: [Service] 00001801-0000-1000-8000-00805f9b34fb (Handle: 6): Generic Attribute Profile\n",
      "2025-04-29 20:15:33,519 |\u001b[32m INFO     \u001b[0m|: \t[Characteristic] 00002a05-0000-1000-8000-00805f9b34fb (Handle: 7): Service Changed (indicate), Value: None\n",
      "2025-04-29 20:15:33,634 |\u001b[32m INFO     \u001b[0m|: \t\t[Descriptor] 00002902-0000-1000-8000-00805f9b34fb (Handle: 9): Client Characteristic Configuration) | Value: b'\\x02\\x00'\n",
      "2025-04-29 20:15:33,637 |\u001b[32m INFO     \u001b[0m|: [Service] 42a9cc13-e812-48e6-9dca-a4d8bc916dbe (Handle: 10): Unknown\n",
      "2025-04-29 20:15:33,756 |\u001b[32m INFO     \u001b[0m|: \t[Characteristic] 27616294-3063-4ecc-b60b-3470ddef2938 (Handle: 11): Unknown (read,notify), Value: b'\\x00\\x00\\xe4B'\n",
      "2025-04-29 20:15:33,875 |\u001b[32m INFO     \u001b[0m|: \t\t[Descriptor] 00002902-0000-1000-8000-00805f9b34fb (Handle: 13): Client Characteristic Configuration) | Value: b'\\x00\\x00'\n",
      "2025-04-29 20:15:33,995 |\u001b[32m INFO     \u001b[0m|: \t[Characteristic] f235a225-6735-4d73-94cb-ee5dfce9ba83 (Handle: 14): Unknown (read,notify), Value: b'[->9.000<-]'\n",
      "2025-04-29 20:15:34,114 |\u001b[32m INFO     \u001b[0m|: \t\t[Descriptor] 00002902-0000-1000-8000-00805f9b34fb (Handle: 16): Client Characteristic Configuration) | Value: b'\\x00\\x00'\n",
      "2025-04-29 20:15:34,116 |\u001b[32m INFO     \u001b[0m|: \t[Characteristic] 9750f60b-9c9c-4158-b620-002ec9521cd9 (Handle: 17): Unknown (write), Value: None\n",
      "2025-04-29 20:17:50,204 |\u001b[32m INFO     \u001b[0m|: Disconnected from 3C:8A:1F:5E:8B:F6\n"
     ]
    }
   ],
   "source": [
    "ble.explore_services()"
   ]
  },
  {
   "cell_type": "code",
   "execution_count": 9,
   "id": "231d37a8-3cc5-4272-aafc-d9f1f5b7310e",
   "metadata": {},
   "outputs": [
    {
     "name": "stdout",
     "output_type": "stream",
     "text": [
      "2025-04-29 20:17:54,669 |\u001b[32m INFO     \u001b[0m|: Looking for Artemis Nano Peripheral Device: 3c:8a:1f:5e:8b:f6\n",
      "2025-04-29 20:17:58,972 |\u001b[32m INFO     \u001b[0m|: Connected to 3c:8a:1f:5e:8b:f6\n"
     ]
    }
   ],
   "source": [
    "# Get ArtemisBLEController object\n",
    "ble = get_ble_controller()\n",
    "\n",
    "# Connect to the Artemis Device\n",
    "ble.connect()"
   ]
  },
  {
   "cell_type": "code",
   "execution_count": 10,
   "id": "3773e5af-541c-4dce-b1e5-bf6a55e7827c",
   "metadata": {},
   "outputs": [],
   "source": [
    "ble.send_command(CMD.PING, \"\")"
   ]
  },
  {
   "cell_type": "code",
   "execution_count": 11,
   "id": "b46cb273-4382-4452-9bc6-02335a3ba924",
   "metadata": {},
   "outputs": [
    {
     "name": "stdout",
     "output_type": "stream",
     "text": [
      "PONG\n"
     ]
    }
   ],
   "source": [
    "s = ble.receive_string(ble.uuid['RX_STRING'])\n",
    "print(s)"
   ]
  },
  {
   "cell_type": "code",
   "execution_count": null,
   "id": "dd7ee73f-df7f-449c-a6d0-d782d62770ea",
   "metadata": {},
   "outputs": [],
   "source": []
  }
 ],
 "metadata": {
  "kernelspec": {
   "display_name": "Python 3 (ipykernel)",
   "language": "python",
   "name": "python3"
  },
  "language_info": {
   "codemirror_mode": {
    "name": "ipython",
    "version": 3
   },
   "file_extension": ".py",
   "mimetype": "text/x-python",
   "name": "python",
   "nbconvert_exporter": "python",
   "pygments_lexer": "ipython3",
   "version": "3.12.7"
  }
 },
 "nbformat": 4,
 "nbformat_minor": 5
}
